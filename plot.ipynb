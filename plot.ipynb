{
 "cells": [
  {
   "cell_type": "code",
   "execution_count": 45,
   "metadata": {},
   "outputs": [],
   "source": [
    "import numpy as np\n",
    "import os\n",
    "import matplotlib\n",
    "import matplotlib.pyplot as plt\n",
    "\n",
    "plt.style.use('seaborn-whitegrid')\n",
    "matplotlib.rc('text', usetex=True)\n",
    "matplotlib.rcParams.update({\"font.size\":16})\n",
    "\n",
    "from src.util import read_json, sma\n",
    "from config import config"
   ]
  },
  {
   "cell_type": "code",
   "execution_count": 46,
   "metadata": {},
   "outputs": [],
   "source": [
    "agent_ids = [0]\n",
    "agent_ids = [str(s) for s in agent_ids]\n",
    "\n",
    "cases = [7265482]\n",
    "cases = [str(c) for c in cases]\n",
    "\n",
    "agent_type = \"ThompsonTabularQFunction\"\n",
    "#agent_type = \"TabularQFunction\"\n",
    "#env = \"FrozenLake-v0\"\n",
    "env = \"NChain-v0\"\n",
    "\n",
    "output_dirs = []\n",
    "for i in range(len(cases)):\n",
    "    for id_ in agent_ids:\n",
    "        o = \"{}/{}/{}{}/{}\".format(config.resultsDir, env, agent_type, cases[i], id_)\n",
    "        output_dirs.append(o)"
   ]
  },
  {
   "cell_type": "code",
   "execution_count": 47,
   "metadata": {},
   "outputs": [
    {
     "name": "stdout",
     "output_type": "stream",
     "text": [
      "['/media/gabriel/Data/projects/distributed_rl/results/NChain-v0/ThompsonTabularQFunction7265482/0']\n"
     ]
    }
   ],
   "source": [
    "print(output_dirs)"
   ]
  },
  {
   "cell_type": "code",
   "execution_count": null,
   "metadata": {},
   "outputs": [
    {
     "name": "stdout",
     "output_type": "stream",
     "text": [
      "/media/gabriel/Data/projects/distributed_rl/results/NChain-v0/ThompsonTabularQFunction7265482/0\n",
      "5000\n"
     ]
    }
   ],
   "source": [
    "rewards = []\n",
    "for output_dir in output_dirs:\n",
    "    print(output_dir)\n",
    "    \n",
    "    reward_arr = []\n",
    "    episodes = sorted(os.listdir(output_dir),key=lambda x: int(x))\n",
    "    print(len(episodes))\n",
    "    for e in episodes:\n",
    "        \n",
    "        d = output_dir + '/' + e\n",
    "        files = os.listdir(d)\n",
    "\n",
    "        steps = []\n",
    "        for f in files:\n",
    "            fn = d+'/'+f\n",
    "            j = read_json(fn)\n",
    "            steps.append(j)\n",
    "            \n",
    "        R = np.sum([d['r'] for d in steps])\n",
    "        reward_arr.append(R)\n",
    "        \n",
    "    rewards.append(np.array(reward_arr))\n",
    "\n",
    "rewards = np.array(rewards)"
   ]
  },
  {
   "cell_type": "code",
   "execution_count": null,
   "metadata": {},
   "outputs": [],
   "source": [
    "print(rewards.shape)"
   ]
  },
  {
   "cell_type": "code",
   "execution_count": null,
   "metadata": {
    "scrolled": true
   },
   "outputs": [],
   "source": [
    "avg_rewards = np.mean(rewards,axis=0)\n",
    "\n",
    "plt.figure()\n",
    "plt.plot(avg_rewards,label='reward')\n",
    "plt.legend()\n",
    "plt.show()\n",
    "plt.close()"
   ]
  },
  {
   "cell_type": "code",
   "execution_count": null,
   "metadata": {},
   "outputs": [],
   "source": [
    "rewards_sma = sma(avg_rewards,100)\n",
    "plt.figure()\n",
    "plt.plot(rewards_sma,label='reward sma')\n",
    "plt.legend()\n",
    "plt.show()\n",
    "plt.close()"
   ]
  },
  {
   "cell_type": "code",
   "execution_count": null,
   "metadata": {
    "collapsed": true
   },
   "outputs": [],
   "source": []
  }
 ],
 "metadata": {
  "kernelspec": {
   "display_name": "Python 3",
   "language": "python",
   "name": "python3"
  },
  "language_info": {
   "codemirror_mode": {
    "name": "ipython",
    "version": 3
   },
   "file_extension": ".py",
   "mimetype": "text/x-python",
   "name": "python",
   "nbconvert_exporter": "python",
   "pygments_lexer": "ipython3",
   "version": "3.6.4"
  }
 },
 "nbformat": 4,
 "nbformat_minor": 2
}
