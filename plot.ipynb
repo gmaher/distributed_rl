{
 "cells": [
  {
   "cell_type": "code",
   "execution_count": 8,
   "metadata": {},
   "outputs": [],
   "source": [
    "import numpy as np\n",
    "import os\n",
    "import matplotlib\n",
    "import matplotlib.pyplot as plt\n",
    "\n",
    "plt.style.use('seaborn-whitegrid')\n",
    "matplotlib.rc('text', usetex=True)\n",
    "matplotlib.rcParams.update({\"font.size\":16})\n",
    "\n",
    "from src.util import read_json, sma\n",
    "from config import config\n"
   ]
  },
  {
   "cell_type": "code",
   "execution_count": 18,
   "metadata": {},
   "outputs": [],
   "source": [
    "agent = str(0)\n",
    "\n",
    "#results_dir = config.resultsDir+'/FrozenLake-v0/ThompsonTabularQFunction/'+agent\n",
    "#results_dir = config.resultsDir+'/CartPole-v0/ThompsonPreprocessedQFunction/'+agent\n",
    "results_dir = config.resultsDir+'/MountainCar-v0/ThompsonPreprocessedQFunction/'+agent"
   ]
  },
  {
   "cell_type": "code",
   "execution_count": 19,
   "metadata": {},
   "outputs": [],
   "source": [
    "episodes = sorted(os.listdir(results_dir),key=lambda x: int(x))"
   ]
  },
  {
   "cell_type": "code",
   "execution_count": 20,
   "metadata": {},
   "outputs": [],
   "source": [
    "steps = []\n",
    "for e in episodes:\n",
    "    d = results_dir + '/' + e\n",
    "    files = os.listdir(d)\n",
    "\n",
    "    steps.append([])\n",
    "    for f in files:\n",
    "        fn = d+'/'+f\n",
    "        j = read_json(fn)\n",
    "        steps[-1].append(j)"
   ]
  },
  {
   "cell_type": "code",
   "execution_count": 21,
   "metadata": {},
   "outputs": [],
   "source": [
    "rewards = []\n",
    "for s in steps:\n",
    "    R = np.sum([d['r'] for d in s])\n",
    "    rewards.append(R)\n",
    "    \n",
    "rewards_avg = sma(rewards,100)"
   ]
  },
  {
   "cell_type": "code",
   "execution_count": 22,
   "metadata": {},
   "outputs": [
    {
     "data": {
      "image/png": "[encoded data removed]",
      "text/plain": [
       "<matplotlib.figure.Figure at 0x7f9a05418dd8>"
      ]
     },
     "metadata": {},
     "output_type": "display_data"
    }
   ],
   "source": [
    "plt.figure()\n",
    "plt.plot(rewards,label='reward')\n",
    "plt.legend()\n",
    "plt.show()\n",
    "plt.close()"
   ]
  },
  {
   "cell_type": "code",
   "execution_count": 23,
   "metadata": {},
   "outputs": [
    {
     "data": {
      "image/png": "[encoded data removed]",
      "text/plain": [
       "<matplotlib.figure.Figure at 0x7f9a05426eb8>"
      ]
     },
     "metadata": {},
     "output_type": "display_data"
    }
   ],
   "source": [
    "plt.figure()\n",
    "plt.plot(rewards_avg,label='reward sma')\n",
    "plt.legend()\n",
    "plt.show()\n",
    "plt.close()"
   ]
  },
  {
   "cell_type": "code",
   "execution_count": null,
   "metadata": {},
   "outputs": [],
   "source": []
  },
  {
   "cell_type": "code",
   "execution_count": null,
   "metadata": {},
   "outputs": [],
   "source": []
  }
 ],
 "metadata": {
  "kernelspec": {
   "display_name": "Python 3",
   "language": "python",
   "name": "python3"
  },
  "language_info": {
   "codemirror_mode": {
    "name": "ipython",
    "version": 3
   },
   "file_extension": ".py",
   "mimetype": "text/x-python",
   "name": "python",
   "nbconvert_exporter": "python",
   "pygments_lexer": "ipython3",
   "version": "3.6.4"
  }
 },
 "nbformat": 4,
 "nbformat_minor": 2
}
